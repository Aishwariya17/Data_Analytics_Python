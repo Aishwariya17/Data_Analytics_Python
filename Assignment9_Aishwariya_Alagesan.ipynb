{
 "cells": [
  {
   "cell_type": "code",
   "execution_count": 1,
   "id": "77e34f4b",
   "metadata": {},
   "outputs": [
    {
     "name": "stdout",
     "output_type": "stream",
     "text": [
      "Requirement already satisfied: scipy in c:\\users\\aishwariya\\anaconda3\\lib\\site-packages (1.10.1)\n",
      "Requirement already satisfied: numpy<1.27.0,>=1.19.5 in c:\\users\\aishwariya\\anaconda3\\lib\\site-packages (from scipy) (1.24.3)\n",
      "Note: you may need to restart the kernel to use updated packages.\n"
     ]
    }
   ],
   "source": [
    "pip install scipy"
   ]
  },
  {
   "cell_type": "markdown",
   "id": "82c16b5c",
   "metadata": {},
   "source": [
    "#### Qn 1"
   ]
  },
  {
   "cell_type": "code",
   "execution_count": 2,
   "id": "8cdaf9d3",
   "metadata": {},
   "outputs": [
    {
     "name": "stdout",
     "output_type": "stream",
     "text": [
      "{'decision': 'Do not reject the null hypothesis', 't': 0.7081833989863848, 'p_value': 0.48790155452863826, 'interpretation': 'There is no significant difference in productivity levels before and after the training program.'}\n"
     ]
    }
   ],
   "source": [
    "# Importing necessary libraries\n",
    "import scipy.stats as stats\n",
    "import matplotlib.pyplot as plt\n",
    "\n",
    "# Scores for class A and class B\n",
    "class_A_scores = [85, 90, 78, 92, 88, 76, 95, 87, 79, 91]\n",
    "class_B_scores = [80, 82, 88, 85, 83, 87, 84, 86, 89, 81]\n",
    "\n",
    "# Perform t-test\n",
    "t, p = stats.ttest_ind(class_A_scores, class_B_scores)\n",
    "\n",
    "alpha = 0.05\n",
    "# Decision\n",
    "if p < alpha:\n",
    "    result = {\n",
    "        \"decision\": \"Reject the null hypothesis\",\n",
    "        \"t\": t,\n",
    "        \"p_value\": p,\n",
    "        \"interpretation\": \"There is a significant difference in productivity levels before and after the training program.\"\n",
    "    }\n",
    "else:\n",
    "    result = {\n",
    "        \"decision\": \"Do not reject the null hypothesis\",\n",
    "        \"t\": t,\n",
    "        \"p_value\": p,\n",
    "        \"interpretation\": \"There is no significant difference in productivity levels before and after the training program.\"\n",
    "    }\n",
    "\n",
    "# Output the result\n",
    "print(result)"
   ]
  },
  {
   "cell_type": "markdown",
   "id": "79900adb",
   "metadata": {},
   "source": [
    "#### Qn 2"
   ]
  },
  {
   "cell_type": "code",
   "execution_count": 5,
   "id": "4619af0e",
   "metadata": {},
   "outputs": [
    {
     "name": "stdout",
     "output_type": "stream",
     "text": [
      "{'decision': 'Reject the null hypothesis', 'chi2': 20.0, 'p_value': 4.539992976248486e-05, 'interpretation': 'The suits are not equally likely.'}\n"
     ]
    }
   ],
   "source": [
    "# Importing necessary libraries\n",
    "import scipy.stats as stats\n",
    "import matplotlib.pyplot as plt\n",
    "\n",
    "# Observed frequencies\n",
    "# Columns: ['Tea', 'Coffee', 'Juice']\n",
    "# Rows: ['Grade 10', 'Grade 11']\n",
    "observed_frequencies = [[30, 10, 10], [10, 30, 10]]\n",
    "\n",
    "# Perform the chi-squared test\n",
    "chi2, p, a, b = stats.chi2_contingency(observed_frequencies)\n",
    "\n",
    "# Define a significance level (alpha)\n",
    "alpha = 0.05\n",
    "\n",
    "# Decision\n",
    "if p < alpha:\n",
    "    result = {\n",
    "        \"decision\": \"Reject the null hypothesis\",\n",
    "        \"chi2\": chi2,\n",
    "        \"p_value\": p,\n",
    "        \"interpretation\": \"The suits are not equally likely.\"\n",
    "    }\n",
    "else:\n",
    "    result = {\n",
    "        \"decision\": \"Do not reject the null hypothesis\",\n",
    "        \"chi2\": chi2,\n",
    "        \"p_value\": p,\n",
    "        \"interpretation\": \"There is no significant evidence to suggest that the suits are not equally likely.\"\n",
    "    }\n",
    "\n",
    "# Output the result\n",
    "print(result)"
   ]
  },
  {
   "cell_type": "markdown",
   "id": "7ade7bf7",
   "metadata": {},
   "source": [
    "#### Qn 3"
   ]
  },
  {
   "cell_type": "code",
   "execution_count": 7,
   "id": "8fc2d54a",
   "metadata": {},
   "outputs": [
    {
     "name": "stdout",
     "output_type": "stream",
     "text": [
      "{'decision': 'Reject the null hypothesis', 'F': 117.41489361702139, 'p_value': 4.698923701356848e-11, 'interpretation': 'There is a significant difference in the variances of the two groups.'}\n"
     ]
    }
   ],
   "source": [
    "# Scores for three different teaching methods\n",
    "method_1_scores = [85, 87, 88, 86, 84, 85, 87]\n",
    "method_2_scores = [80, 82, 81, 83, 82, 80, 81]\n",
    "method_3_scores = [90, 91, 92, 90, 91, 92, 93]\n",
    "\n",
    "# Perform one-way ANOVA\n",
    "f, p = stats.f_oneway(method_1_scores, method_2_scores, method_3_scores)\n",
    "\n",
    "# Define a significance level (alpha)\n",
    "alpha = 0.05\n",
    "\n",
    "# Decision\n",
    "if p < alpha:\n",
    "    result = {\n",
    "        \"decision\": \"Reject the null hypothesis\",\n",
    "        \"F\": f,\n",
    "        \"p_value\": p,\n",
    "        \"interpretation\": \"There is a significant difference in the variances of the two groups.\"\n",
    "    }\n",
    "else:\n",
    "    result = {\n",
    "        \"decision\": \"Do not reject the null hypothesis\",\n",
    "        \"F\": f,\n",
    "        \"p_value\": p,\n",
    "        \"interpretation\": \"There is no significant difference in the variances of the two groups.\"\n",
    "    }\n",
    "\n",
    "# Output the result\n",
    "print(result)"
   ]
  },
  {
   "cell_type": "markdown",
   "id": "266cc049",
   "metadata": {},
   "source": [
    "#### Qn 4"
   ]
  },
  {
   "cell_type": "code",
   "execution_count": 8,
   "id": "ca93f64a",
   "metadata": {},
   "outputs": [
    {
     "name": "stdout",
     "output_type": "stream",
     "text": [
      "{'decision': 'Do not reject the null hypothesis', 'z': 0.37947331922020644, 'z_critical': 1.959963984540054, 'interpretation': 'There is no significant evidence to suggest that the machine is not producing parts with the correct dimensions.'}\n"
     ]
    }
   ],
   "source": [
    "# Sample scores and population parameters\n",
    "sample_scores = [78, 76, 74, 75, 77, 76, 78, 74, 79, 75]\n",
    "population_mean = 75\n",
    "population_std = 10\n",
    "\n",
    "# Calculate the sample mean and sample size\n",
    "sample_mean = sum(sample_scores) / len(sample_scores)\n",
    "sample_size = len(sample_scores)\n",
    "\n",
    "# Calculate the Z-statistic\n",
    "z = (sample_mean - population_mean) / (population_std / (sample_size**0.5))\n",
    "\n",
    "# Define a significance level (alpha)\n",
    "alpha = 0.05\n",
    "\n",
    "# Calculate the critical Z-value for a two-tailed test at alpha/2\n",
    "z_critical = stats.norm.ppf(1 - alpha / 2)\n",
    "\n",
    "# Decision\n",
    "if abs(z) > z_critical:\n",
    "    result = {\n",
    "        \"decision\": \"Reject the null hypothesis\",\n",
    "        \"z\": z,\n",
    "        \"z_critical\": z_critical,\n",
    "        \"interpretation\": \"There is evidence to suggest that the machine is not producing parts with the correct dimensions.\"\n",
    "    }\n",
    "else:\n",
    "    result = {\n",
    "        \"decision\": \"Do not reject the null hypothesis\",\n",
    "        \"z\": z,\n",
    "        \"z_critical\": z_critical,\n",
    "        \"interpretation\": \"There is no significant evidence to suggest that the machine is not producing parts with the correct dimensions.\"\n",
    "    }\n",
    "\n",
    "# Output the result\n",
    "print(result)\n"
   ]
  },
  {
   "cell_type": "markdown",
   "id": "3625c4a4",
   "metadata": {},
   "source": [
    "#### Qn 5"
   ]
  },
  {
   "cell_type": "code",
   "execution_count": 9,
   "id": "38295bc4",
   "metadata": {},
   "outputs": [
    {
     "name": "stdout",
     "output_type": "stream",
     "text": [
      "{'decision': 'Reject the null hypothesis', 'z': 2.108292664499799, 'z_critical': 1.959963984540054, 'interpretation': 'There is enough evidence to conclude that there is a difference in the mean scores.'}\n"
     ]
    }
   ],
   "source": [
    "from scipy import stats\n",
    "import math\n",
    "\n",
    "# Scores for two different classes and population variances\n",
    "class_X_scores = [85, 87, 88, 86, 84, 85, 87]\n",
    "class_Y_scores = [80, 82, 81, 83, 82, 80, 81]\n",
    "population_variance_X = 15\n",
    "population_variance_Y = 20\n",
    "\n",
    "# Calculate the sample means and sample sizes\n",
    "sample_mean_X = sum(class_X_scores) / len(class_X_scores)\n",
    "sample_size_X = len(class_X_scores)\n",
    "sample_mean_Y = sum(class_Y_scores) / len(class_Y_scores)\n",
    "sample_size_Y = len(class_Y_scores)\n",
    "\n",
    "# Calculate the standard error for the difference of means\n",
    "standard_error_diff = math.sqrt((population_variance_X / sample_size_X) + (population_variance_Y / sample_size_Y))\n",
    "\n",
    "# Calculate the Z-statistic\n",
    "z = (sample_mean_X - sample_mean_Y) / standard_error_diff\n",
    "\n",
    "# Define a significance level (alpha)\n",
    "alpha = 0.05\n",
    "\n",
    "# Calculate the critical Z-value for a two-tailed test at alpha/2\n",
    "z_critical = stats.norm.ppf(1 - alpha / 2)\n",
    "\n",
    "# Decision\n",
    "if abs(z) > z_critical:\n",
    "    result = {\n",
    "        \"decision\": \"Reject the null hypothesis\",\n",
    "        \"z\": z,\n",
    "        \"z_critical\": z_critical,\n",
    "        \"interpretation\": \"There is enough evidence to conclude that there is a difference in the mean scores.\"\n",
    "    }\n",
    "else:\n",
    "    result = {\n",
    "        \"decision\": \"Do not reject the null hypothesis\",\n",
    "        \"z\": z,\n",
    "        \"z_critical\": z_critical,\n",
    "        \"interpretation\": \"There is not enough evidence to conclude that there is a difference in the mean scores.\"\n",
    "    }\n",
    "\n",
    "# Print the result\n",
    "print(result)"
   ]
  }
 ],
 "metadata": {
  "kernelspec": {
   "display_name": "Python 3 (ipykernel)",
   "language": "python",
   "name": "python3"
  },
  "language_info": {
   "codemirror_mode": {
    "name": "ipython",
    "version": 3
   },
   "file_extension": ".py",
   "mimetype": "text/x-python",
   "name": "python",
   "nbconvert_exporter": "python",
   "pygments_lexer": "ipython3",
   "version": "3.11.4"
  }
 },
 "nbformat": 4,
 "nbformat_minor": 5
}
