{
 "cells": [
  {
   "cell_type": "markdown",
   "id": "c1250f91",
   "metadata": {},
   "source": [
    "#### Qn 1"
   ]
  },
  {
   "cell_type": "code",
   "execution_count": 26,
   "id": "c61edc6b",
   "metadata": {},
   "outputs": [],
   "source": [
    "import pandas as pd\n",
    "import numpy as np\n",
    "\n",
    "np.random.seed(98765)\n",
    "\n",
    "# Generating app usage data\n",
    "users_count = 1000\n",
    "feature_a_prob = 0.6\n",
    "feature_b_prob = 0.5\n",
    "\n",
    "feature_a_usage = np.random.binomial(1, feature_a_prob, users_count)\n",
    "feature_b_usage = np.random.binomial(1, feature_b_prob, users_count)\n",
    "\n",
    "df = pd.DataFrame({\n",
    "    'user_id': range(1, users_count + 1),\n",
    "    'feature_a': feature_a_usage,\n",
    "    'feature_b': feature_b_usage\n",
    "})\n",
    "\n",
    "df.to_csv('app_usage.csv', index=False)"
   ]
  },
  {
   "cell_type": "code",
   "execution_count": 27,
   "id": "5c05b808",
   "metadata": {},
   "outputs": [],
   "source": [
    "df = pd.read_csv('app_usage.csv')"
   ]
  },
  {
   "cell_type": "code",
   "execution_count": 28,
   "id": "89a9ed92",
   "metadata": {},
   "outputs": [
    {
     "data": {
      "text/plain": [
       "user_id      0\n",
       "feature_a    0\n",
       "feature_b    0\n",
       "dtype: int64"
      ]
     },
     "execution_count": 28,
     "metadata": {},
     "output_type": "execute_result"
    }
   ],
   "source": [
    "df.isnull().sum()"
   ]
  },
  {
   "cell_type": "code",
   "execution_count": 29,
   "id": "488c75e5",
   "metadata": {},
   "outputs": [
    {
     "name": "stdout",
     "output_type": "stream",
     "text": [
      "user_id      0\n",
      "feature_a    0\n",
      "feature_b    0\n",
      "dtype: int64\n"
     ]
    }
   ],
   "source": [
    "# Check for missing values and address them\n",
    "if df.isnull().sum().sum() > 0 :\n",
    "    df.dropna(inplace=True)\n",
    "    \n",
    "print(df.isnull().sum())"
   ]
  },
  {
   "cell_type": "code",
   "execution_count": 30,
   "id": "665aa892",
   "metadata": {},
   "outputs": [
    {
     "name": "stdout",
     "output_type": "stream",
     "text": [
      "Joint Probability of users accessing both Feature A and Feature B: 0.296\n"
     ]
    }
   ],
   "source": [
    "# Compute the joint probability of users accessing both Feature A and Feature B.\n",
    "access_both = df[(df['feature_a'] == 1) & (df['feature_b'] == 1)]\n",
    "\n",
    "# Calculating the joint probability\n",
    "joint_prob= len(access_both) / users_count\n",
    "\n",
    "print(\"Joint Probability of users accessing both Feature A and Feature B:\", joint_prob)"
   ]
  },
  {
   "cell_type": "code",
   "execution_count": 33,
   "id": "41aaafb3",
   "metadata": {},
   "outputs": [
    {
     "name": "stdout",
     "output_type": "stream",
     "text": [
      "Marginal Probability of users accessing Feature A: 0.589\n",
      "Marginal Probability of users accessing Feature B: 0.495\n"
     ]
    }
   ],
   "source": [
    "# Compute the marginal probabilities of users accessing Feature A and Feature B.\n",
    "users_feature_a = (df['feature_a'] == 1).sum()\n",
    "\n",
    "# Calculate the number of users who accessed Feature B\n",
    "users_feature_b = (df['feature_b'] == 1).sum()\n",
    "\n",
    "marginal_prob_a = users_feature_a / users_count\n",
    "marginal_prob_b = users_feature_b / users_count\n",
    "\n",
    "print(\"Marginal Probability of users accessing Feature A:\", marginal_prob_a)\n",
    "print(\"Marginal Probability of users accessing Feature B:\", marginal_prob_b)"
   ]
  },
  {
   "cell_type": "code",
   "execution_count": 12,
   "id": "8898c4ca",
   "metadata": {},
   "outputs": [
    {
     "name": "stdout",
     "output_type": "stream",
     "text": [
      "Conditional Probability of Feature A given that the user accessed Feature B: 0.597979797979798\n"
     ]
    }
   ],
   "source": [
    "# Feature A given that the user accessed Feature B.\n",
    "conditional_prob_A = len(access_both) / len(df[df['feature_b'] == 1])\n",
    "\n",
    "print(\"Conditional Probability of Feature A given that the user accessed Feature B:\", conditional_prob_A)"
   ]
  },
  {
   "cell_type": "code",
   "execution_count": 14,
   "id": "510b8294",
   "metadata": {},
   "outputs": [
    {
     "name": "stdout",
     "output_type": "stream",
     "text": [
      "Conditional Probability of Feature B given that the user accessed Feature A: 0.5025466893039049\n"
     ]
    }
   ],
   "source": [
    "# Feature B given that the user accessed Feature A.\n",
    "conditional_prob_B = len(access_both) / len(df[df['feature_a'] == 1])\n",
    "\n",
    "print(\"Conditional Probability of Feature B given that the user accessed Feature A:\", conditional_prob_B)"
   ]
  },
  {
   "cell_type": "code",
   "execution_count": 16,
   "id": "5d5e1b60",
   "metadata": {},
   "outputs": [
    {
     "name": "stdout",
     "output_type": "stream",
     "text": [
      "Collecting matplotlib_venn\n",
      "  Downloading matplotlib-venn-0.11.9.tar.gz (30 kB)\n",
      "  Installing build dependencies: started\n",
      "  Installing build dependencies: finished with status 'done'\n",
      "  Getting requirements to build wheel: started\n",
      "  Getting requirements to build wheel: finished with status 'done'\n",
      "  Installing backend dependencies: started\n",
      "  Installing backend dependencies: finished with status 'done'\n",
      "  Preparing metadata (pyproject.toml): started\n",
      "  Preparing metadata (pyproject.toml): finished with status 'done'\n",
      "Requirement already satisfied: matplotlib in c:\\users\\aishwariya\\anaconda3\\lib\\site-packages (from matplotlib_venn) (3.7.1)\n",
      "Requirement already satisfied: numpy in c:\\users\\aishwariya\\anaconda3\\lib\\site-packages (from matplotlib_venn) (1.24.3)\n",
      "Requirement already satisfied: scipy in c:\\users\\aishwariya\\anaconda3\\lib\\site-packages (from matplotlib_venn) (1.10.1)\n",
      "Requirement already satisfied: contourpy>=1.0.1 in c:\\users\\aishwariya\\anaconda3\\lib\\site-packages (from matplotlib->matplotlib_venn) (1.0.5)\n",
      "Requirement already satisfied: cycler>=0.10 in c:\\users\\aishwariya\\anaconda3\\lib\\site-packages (from matplotlib->matplotlib_venn) (0.11.0)\n",
      "Requirement already satisfied: fonttools>=4.22.0 in c:\\users\\aishwariya\\anaconda3\\lib\\site-packages (from matplotlib->matplotlib_venn) (4.25.0)\n",
      "Requirement already satisfied: kiwisolver>=1.0.1 in c:\\users\\aishwariya\\anaconda3\\lib\\site-packages (from matplotlib->matplotlib_venn) (1.4.4)\n",
      "Requirement already satisfied: packaging>=20.0 in c:\\users\\aishwariya\\anaconda3\\lib\\site-packages (from matplotlib->matplotlib_venn) (23.0)\n",
      "Requirement already satisfied: pillow>=6.2.0 in c:\\users\\aishwariya\\anaconda3\\lib\\site-packages (from matplotlib->matplotlib_venn) (9.4.0)\n",
      "Requirement already satisfied: pyparsing>=2.3.1 in c:\\users\\aishwariya\\anaconda3\\lib\\site-packages (from matplotlib->matplotlib_venn) (3.0.9)\n",
      "Requirement already satisfied: python-dateutil>=2.7 in c:\\users\\aishwariya\\anaconda3\\lib\\site-packages (from matplotlib->matplotlib_venn) (2.8.2)\n",
      "Requirement already satisfied: six>=1.5 in c:\\users\\aishwariya\\anaconda3\\lib\\site-packages (from python-dateutil>=2.7->matplotlib->matplotlib_venn) (1.16.0)\n",
      "Building wheels for collected packages: matplotlib_venn\n",
      "  Building wheel for matplotlib_venn (pyproject.toml): started\n",
      "  Building wheel for matplotlib_venn (pyproject.toml): finished with status 'done'\n",
      "  Created wheel for matplotlib_venn: filename=matplotlib_venn-0.11.9-py3-none-any.whl size=33037 sha256=86dfae25b31175608b92efc269af5767053418748e8161276e7e33e7e66405fb\n",
      "  Stored in directory: c:\\users\\aishwariya\\appdata\\local\\pip\\cache\\wheels\\f6\\80\\48\\193eff32ed8e176623b15874055438ecec522ba68ed05abee6\n",
      "Successfully built matplotlib_venn\n",
      "Installing collected packages: matplotlib_venn\n",
      "Successfully installed matplotlib_venn-0.11.9\n"
     ]
    }
   ],
   "source": [
    "!pip install matplotlib_venn"
   ]
  },
  {
   "cell_type": "code",
   "execution_count": 19,
   "id": "ca34b296",
   "metadata": {},
   "outputs": [
    {
     "data": {
      "image/png": "[encoded data removed]",
      "text/plain": [
       "<Figure size 800x400 with 1 Axes>"
      ]
     },
     "metadata": {},
     "output_type": "display_data"
    }
   ],
   "source": [
    "from matplotlib_venn import venn2\n",
    "import matplotlib.pyplot as plt\n",
    "\n",
    "access_A = len(df[df['feature_a'] == 1])\n",
    "access_B = len(df[df['feature_b'] == 1])\n",
    "access_both_len = len(access_both)\n",
    "\n",
    "# Plotting Venn diagram\n",
    "plt.figure(figsize=(8, 4))\n",
    "venn2(subsets=(access_A, access_B, access_both_len),\n",
    "      set_labels=('Feature A', 'Feature B'))\n",
    "plt.title('Venn Diagram of user accesssing A and B')\n",
    "plt.show()"
   ]
  },
  {
   "cell_type": "markdown",
   "id": "f1f99d88",
   "metadata": {},
   "source": [
    "Interpretation:\n",
    "\n",
    "Joint Probability of Both Features:\n",
    "\n",
    "The joint probability indicates the likelihood of users accessing both Feature A and Feature B. It signifies the extent to which these features are used together, providing insights into their synergy or co-dependency.\n",
    "\n",
    "Marginal Probabilities:\n",
    "\n",
    "The marginal probabilities of users accessing Feature A and Feature B independently help us understand the stand-alone popularity of each feature. These probabilities reveal how each feature contributes individually to user engagement.\n",
    "\n",
    "Venn Diagram Insight:\n",
    "\n",
    "The Venn diagram visually illustrates the overlap and distinct user bases for Feature A and Feature B. It aids in identifying common and unique user segments, facilitating targeted strategies to optimize feature utilization and user experience."
   ]
  },
  {
   "cell_type": "markdown",
   "id": "9ba261c9",
   "metadata": {},
   "source": [
    "#### Qn 2"
   ]
  },
  {
   "cell_type": "code",
   "execution_count": 59,
   "id": "9544fdc2",
   "metadata": {},
   "outputs": [],
   "source": [
    "import pandas as pd\n",
    "import numpy as np\n",
    "\n",
    "np.random.seed(11111)\n",
    "\n",
    "# Generating movie preferences data\n",
    "subscribers_count = 1500\n",
    "sci_fi_prob = 0.7\n",
    "romance_prob = 0.6\n",
    "\n",
    "sci_fi_watchers = np.random.binomial(1, sci_fi_prob, subscribers_count)\n",
    "romance_watchers = np.random.binomial(1, romance_prob, subscribers_count)\n",
    "\n",
    "df = pd.DataFrame({\n",
    "    'subscriber_id': range(1001, 1001 + subscribers_count),\n",
    "    'sci_fi': sci_fi_watchers,\n",
    "    'romance': romance_watchers\n",
    "})\n",
    "\n",
    "df.to_csv('movie_preferences.csv', index=False)"
   ]
  },
  {
   "cell_type": "code",
   "execution_count": 60,
   "id": "5d03ffec",
   "metadata": {},
   "outputs": [],
   "source": [
    "df = pd.read_csv('movie_preferences.csv')"
   ]
  },
  {
   "cell_type": "code",
   "execution_count": 61,
   "id": "60cd5829",
   "metadata": {},
   "outputs": [
    {
     "data": {
      "text/plain": [
       "subscriber_id    0\n",
       "sci_fi           0\n",
       "romance          0\n",
       "dtype: int64"
      ]
     },
     "execution_count": 61,
     "metadata": {},
     "output_type": "execute_result"
    }
   ],
   "source": [
    "df.isnull().sum()"
   ]
  },
  {
   "cell_type": "code",
   "execution_count": 62,
   "id": "10dd7e50",
   "metadata": {},
   "outputs": [
    {
     "name": "stdout",
     "output_type": "stream",
     "text": [
      "subscriber_id    0\n",
      "sci_fi           0\n",
      "romance          0\n",
      "dtype: int64\n"
     ]
    }
   ],
   "source": [
    "# Check for missing values and address them\n",
    "if df.isnull().sum().sum() > 0 :\n",
    "    df.dropna(inplace=True)\n",
    "    \n",
    "print(df.isnull().sum())"
   ]
  },
  {
   "cell_type": "code",
   "execution_count": 63,
   "id": "feb104a0",
   "metadata": {},
   "outputs": [
    {
     "name": "stdout",
     "output_type": "stream",
     "text": [
      "Joint Probability of subscribers watching both Sci-Fi and Romance movies: 0.418\n"
     ]
    }
   ],
   "source": [
    "# Compute the joint probability of subscribers watching both Sci-Fi and Romance movies.\n",
    "watch_both = df[(df['sci_fi'] == 1) & (df['romance'] == 1)]\n",
    "\n",
    "# Calculating the joint probability\n",
    "joint_prob= len(watch_both) / subscribers_count\n",
    "\n",
    "print(\"Joint Probability of subscribers watching both Sci-Fi and Romance movies:\", joint_prob)"
   ]
  },
  {
   "cell_type": "code",
   "execution_count": 64,
   "id": "f7d209fc",
   "metadata": {},
   "outputs": [
    {
     "name": "stdout",
     "output_type": "stream",
     "text": [
      "Marginal Probability of subscribers watching Sci-Fi: 0.694\n",
      "Marginal Probability of subscribers watching Romance: 0.6006666666666667\n"
     ]
    }
   ],
   "source": [
    "# Determine the marginal probabilities of subscribers watching Sci-Fi and Romance movies\n",
    "sub_sci_fi = (df['sci_fi'] == 1).sum()\n",
    "\n",
    "sub_rom = (df['romance'] == 1).sum()\n",
    "\n",
    "marginal_prob_sci_fi = sub_sci_fi / subscribers_count\n",
    "marginal_prob_rom = sub_rom/ subscribers_count\n",
    "\n",
    "print(\"Marginal Probability of subscribers watching Sci-Fi:\", marginal_prob_sci_fi)\n",
    "print(\"Marginal Probability of subscribers watching Romance:\", marginal_prob_rom)"
   ]
  },
  {
   "cell_type": "code",
   "execution_count": 65,
   "id": "dfb83909",
   "metadata": {},
   "outputs": [
    {
     "name": "stdout",
     "output_type": "stream",
     "text": [
      "Conditional Probability of subscriber watching a Sci-Fi movie, given that they watch Romance movies: 0.6958934517203108\n"
     ]
    }
   ],
   "source": [
    "# A Sci-Fi movie, given that they watch Romance movies.\n",
    "conditional_prob_sci_fi = len(watch_both) / len(df[df['romance'] == 1])\n",
    "\n",
    "print(\"Conditional Probability of subscriber watching a Sci-Fi movie, given that they watch Romance movies:\", conditional_prob_sci_fi)"
   ]
  },
  {
   "cell_type": "code",
   "execution_count": 66,
   "id": "5b095e72",
   "metadata": {},
   "outputs": [
    {
     "name": "stdout",
     "output_type": "stream",
     "text": [
      "Conditional Probability of subscriber watching a Romance movie, given that they watch Sci-Fi movies: 0.6023054755043228\n"
     ]
    }
   ],
   "source": [
    "# A Romance movie, given that they watch Sci-Fi movies.\n",
    "conditional_prob_rom = len(watch_both) / len(df[df['sci_fi'] == 1])\n",
    "\n",
    "print(\"Conditional Probability of subscriber watching a Romance movie, given that they watch Sci-Fi movies:\", conditional_prob_rom)"
   ]
  },
  {
   "cell_type": "code",
   "execution_count": 67,
   "id": "74be8d14",
   "metadata": {},
   "outputs": [
    {
     "data": {
      "image/png": "[encoded data removed]",
      "text/plain": [
       "<Figure size 800x400 with 1 Axes>"
      ]
     },
     "metadata": {},
     "output_type": "display_data"
    }
   ],
   "source": [
    "watch_sci_fi = len(df[df['sci_fi'] == 1])\n",
    "watch_rom = len(df[df['romance'] == 1])\n",
    "watch_both_len = len(watch_both)\n",
    "\n",
    "# Plotting Venn diagram\n",
    "plt.figure(figsize=(8, 4))\n",
    "venn2(subsets=(watch_sci_fi, watch_rom, watch_both_len),\n",
    "      set_labels=('Sci-Fi', 'Romance'))\n",
    "plt.title('Venn Diagram of movie watchers')\n",
    "plt.show()"
   ]
  },
  {
   "cell_type": "markdown",
   "id": "3297f28e",
   "metadata": {},
   "source": [
    "Interpretation:\n",
    "\n",
    "Joint Probability of Sci-Fi and Romance Preferences:\n",
    "\n",
    "The joint probability represents the likelihood of subscribers having both Sci-Fi and Romance preferences. This indicates the co-occurrence of these preferences and highlights potential synergies between the two genres. Understanding this joint probability can guide the creation of content that appeals to a combined audience.\n",
    "\n",
    "Marginal Probabilities of Genre Preferences:\n",
    "\n",
    "The marginal probabilities for Sci-Fi and Romance preferences individually reflect the popularity of each genre in isolation. Sci-Fi exhibits a higher individual appeal, while Romance also has a significant following. These probabilities serve as a foundation for tailoring content recommendations and creating genre-specific content to maximize user engagement.\n",
    "\n",
    "Venn Diagram Insights on Genre Overlap:\n",
    "\n",
    "The Venn diagram visually illustrates the overlap and distinct user bases for Sci-Fi and Romance preferences. It provides a clear view of the audience who enjoys both genres and those who prefer one over the other. This insight can guide content strategy by identifying opportunities to cater to the overlapping preferences and create content that bridges the gap between Sci-Fi and Romance."
   ]
  },
  {
   "cell_type": "markdown",
   "id": "71ba276a",
   "metadata": {},
   "source": [
    "#### Qn 3"
   ]
  },
  {
   "cell_type": "code",
   "execution_count": 68,
   "id": "8f22a1b8",
   "metadata": {},
   "outputs": [],
   "source": [
    "import pandas as pd\n",
    "import numpy as np\n",
    "\n",
    "np.random.seed(22222)\n",
    "\n",
    "# Generating health survey data\n",
    "users_count = 2000\n",
    "exercise_prob = 0.65\n",
    "vegetarian_prob = 0.55\n",
    "\n",
    "exercise_data = np.random.binomial(1, exercise_prob, users_count)\n",
    "vegetarian_data = np.random.binomial(1, vegetarian_prob, users_count)\n",
    "\n",
    "df = pd.DataFrame({\n",
    "    'user_id': range(1, users_count + 1),\n",
    "    'exercises': exercise_data,\n",
    "    'vegetarian': vegetarian_data\n",
    "})\n",
    "\n",
    "df.to_csv('health_survey.csv', index=False)"
   ]
  },
  {
   "cell_type": "code",
   "execution_count": 69,
   "id": "159cef7e",
   "metadata": {},
   "outputs": [],
   "source": [
    "df = pd.read_csv('health_survey.csv')"
   ]
  },
  {
   "cell_type": "code",
   "execution_count": 70,
   "id": "208d8613",
   "metadata": {},
   "outputs": [
    {
     "data": {
      "text/plain": [
       "user_id       0\n",
       "exercises     0\n",
       "vegetarian    0\n",
       "dtype: int64"
      ]
     },
     "execution_count": 70,
     "metadata": {},
     "output_type": "execute_result"
    }
   ],
   "source": [
    "df.isnull().sum()"
   ]
  },
  {
   "cell_type": "code",
   "execution_count": 71,
   "id": "5260f292",
   "metadata": {},
   "outputs": [
    {
     "name": "stdout",
     "output_type": "stream",
     "text": [
      "user_id       0\n",
      "exercises     0\n",
      "vegetarian    0\n",
      "dtype: int64\n"
     ]
    }
   ],
   "source": [
    "# Check for missing values and address them\n",
    "if df.isnull().sum().sum() > 0 :\n",
    "    df.dropna(inplace=True)\n",
    "    \n",
    "print(df.isnull().sum())"
   ]
  },
  {
   "cell_type": "code",
   "execution_count": 72,
   "id": "71725663",
   "metadata": {},
   "outputs": [
    {
     "name": "stdout",
     "output_type": "stream",
     "text": [
      "Joint Probability of users both exercising regularly and following a vegetarian diet: 0.357\n"
     ]
    }
   ],
   "source": [
    "# Compute the joint probability of users both exercising regularly and following a vegetarian diet.\n",
    "user_both = df[(df['exercises'] == 1) & (df['vegetarian'] == 1)]\n",
    "\n",
    "# Calculating the joint probability\n",
    "joint_prob= len(user_both) / users_count\n",
    "\n",
    "print(\"Joint Probability of users both exercising regularly and following a vegetarian diet:\", joint_prob)"
   ]
  },
  {
   "cell_type": "code",
   "execution_count": 73,
   "id": "ad1ba54f",
   "metadata": {},
   "outputs": [
    {
     "name": "stdout",
     "output_type": "stream",
     "text": [
      "Marginal Probability of users exercising regularly: 0.6475\n",
      "Marginal Probability of users following a vegetarian diet: 0.555\n"
     ]
    }
   ],
   "source": [
    "# Calculate the marginal probabilities of users exercising regularly and following a vegetarian diet\n",
    "user_exercise = (df['exercises'] == 1).sum()\n",
    "\n",
    "user_veg = (df['vegetarian'] == 1).sum()\n",
    "\n",
    "marginal_prob_exercise = user_exercise / users_count\n",
    "marginal_prob_veg = user_veg / users_count\n",
    "\n",
    "print(\"Marginal Probability of users exercising regularly:\", marginal_prob_exercise)\n",
    "print(\"Marginal Probability of users following a vegetarian diet:\", marginal_prob_veg)"
   ]
  },
  {
   "cell_type": "code",
   "execution_count": 74,
   "id": "19452ede",
   "metadata": {},
   "outputs": [
    {
     "name": "stdout",
     "output_type": "stream",
     "text": [
      "Conditional Probability of a user exercising regularly, given that they follow a vegetarian diet: 0.6432432432432432\n"
     ]
    }
   ],
   "source": [
    "# A user exercising regularly, given that they follow a vegetarian diet.\n",
    "conditional_prob_exercise = len(user_both) / len(df[df['vegetarian'] == 1])\n",
    "\n",
    "print(\"Conditional Probability of a user exercising regularly, given that they follow a vegetarian diet:\", conditional_prob_exercise)"
   ]
  },
  {
   "cell_type": "code",
   "execution_count": 75,
   "id": "46a3bb83",
   "metadata": {},
   "outputs": [
    {
     "name": "stdout",
     "output_type": "stream",
     "text": [
      "Conditional Probability of a user following a vegetarian diet, given that they exercise regularly: 0.5513513513513514\n"
     ]
    }
   ],
   "source": [
    "# A user following a vegetarian diet, given that they exercise regularly.\n",
    "conditional_prob_veg = len(user_both) / len(df[df['exercises'] == 1])\n",
    "\n",
    "print(\"Conditional Probability of a user following a vegetarian diet, given that they exercise regularly:\", conditional_prob_veg)"
   ]
  },
  {
   "cell_type": "code",
   "execution_count": 76,
   "id": "83e9b8a4",
   "metadata": {},
   "outputs": [
    {
     "data": {
      "image/png": "[encoded data removed]",
      "text/plain": [
       "<Figure size 800x400 with 1 Axes>"
      ]
     },
     "metadata": {},
     "output_type": "display_data"
    }
   ],
   "source": [
    "user_exer_count = len(df[df['exercises'] == 1])\n",
    "user_veg_count = len(df[df['vegetarian'] == 1])\n",
    "user_both_len = len(user_both)\n",
    "\n",
    "# Plotting Venn diagram\n",
    "plt.figure(figsize=(8, 4))\n",
    "venn2(subsets=(user_exer_count, user_veg_count, user_both_len),\n",
    "      set_labels=('Exercise', 'Vegetarian'))\n",
    "plt.title('Venn Diagram of users')\n",
    "plt.show()"
   ]
  },
  {
   "cell_type": "markdown",
   "id": "014044b6",
   "metadata": {},
   "source": [
    "Interpretation:\n",
    "\n",
    "Joint Probability of Exercise and Vegetarian Preferences:\n",
    "\n",
    "The joint probability indicates the likelihood of survey participants having both exercise and vegetarian preferences. It offers insights into the co-occurrence of these lifestyle choices, helping us understand how frequently individuals adopt both healthy habits simultaneously.\n",
    "\n",
    "Marginal Probabilities of Health Habits:\n",
    "\n",
    "The marginal probabilities of exercise and vegetarian preferences independently reveal the popularity of each habit within the surveyed population. A higher probability for exercise suggests that it is a more prevalent choice, while vegetarian preferences also have a substantial following. These probabilities allow us to grasp the individual adoption rates of these health-related habits.\n",
    "\n",
    "Insight into Overlapping Health Behaviors:\n",
    "\n",
    "By examining the joint probability and considering the Venn diagram (not explicitly mentioned), we can visually represent the overlap and distinctions between individuals who exercise and those who follow a vegetarian diet. Understanding this intersection can guide initiatives such as promoting exercise-friendly vegetarian meal plans or targeting individuals who have both preferences for specific health-focused campaigns."
   ]
  },
  {
   "cell_type": "code",
   "execution_count": null,
   "id": "6e64f026",
   "metadata": {},
   "outputs": [],
   "source": []
  }
 ],
 "metadata": {
  "kernelspec": {
   "display_name": "Python 3 (ipykernel)",
   "language": "python",
   "name": "python3"
  },
  "language_info": {
   "codemirror_mode": {
    "name": "ipython",
    "version": 3
   },
   "file_extension": ".py",
   "mimetype": "text/x-python",
   "name": "python",
   "nbconvert_exporter": "python",
   "pygments_lexer": "ipython3",
   "version": "3.11.4"
  }
 },
 "nbformat": 4,
 "nbformat_minor": 5
}
