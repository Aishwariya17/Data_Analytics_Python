{
 "cells": [
  {
   "cell_type": "markdown",
   "id": "e4ea8363",
   "metadata": {},
   "source": [
    "#### Qn 1"
   ]
  },
  {
   "cell_type": "code",
   "execution_count": 41,
   "id": "28fc5c77",
   "metadata": {},
   "outputs": [],
   "source": [
    "import pandas as pd\n",
    "import numpy as np\n",
    "\n",
    "np.random.seed(999)\n",
    "\n",
    "def simulate_monty_hall(num_trials):\n",
    "    doors = ['A', 'B', 'C']\n",
    "    results = []\n",
    "\n",
    "    for i in range(num_trials):\n",
    "        car_location = np.random.choice(doors)\n",
    "        initial_choice = np.random.choice(doors)\n",
    "        remaining_doors = [door for door in doors if door != initial_choice and door != car_location]\n",
    "        monty_reveal = np.random.choice(remaining_doors)\n",
    "        \n",
    "        # Simulating equal probability of sticking or switching\n",
    "        final_decision = np.random.choice(['Stick', 'Switch'])\n",
    "        if final_decision == 'Stick':\n",
    "            win = 1 if initial_choice == car_location else 0\n",
    "        else:\n",
    "            switch_to = [door for door in doors if door != initial_choice and door != monty_reveal][0]\n",
    "            win = 1 if switch_to == car_location else 0\n",
    "\n",
    "        results.append([i+1, initial_choice, monty_reveal, car_location, final_decision, win])\n",
    "\n",
    "    return pd.DataFrame(results, columns=['trial', 'initial_choice', 'monty_reveal', 'actual_car_location', 'final_decision', 'win'])\n",
    "\n",
    "df = simulate_monty_hall(1000)\n",
    "df.to_csv('monty_hall_trials.csv', index=False)"
   ]
  },
  {
   "cell_type": "code",
   "execution_count": 42,
   "id": "e7d58970",
   "metadata": {},
   "outputs": [
    {
     "name": "stdout",
     "output_type": "stream",
     "text": [
      "Missing Data:\n",
      "trial                  0\n",
      "initial_choice         0\n",
      "monty_reveal           0\n",
      "actual_car_location    0\n",
      "final_decision         0\n",
      "win                    0\n",
      "dtype: int64\n"
     ]
    }
   ],
   "source": [
    "# Load the dataset into a Pandas DataFrame\n",
    "df = pd.read_csv('monty_hall_trials.csv')\n",
    "\n",
    "# Check for missing data\n",
    "missing_data = df.isnull().sum()\n",
    "print(\"Missing Data:\")\n",
    "print(missing_data)"
   ]
  },
  {
   "cell_type": "code",
   "execution_count": 43,
   "id": "696f086a",
   "metadata": {},
   "outputs": [
    {
     "name": "stdout",
     "output_type": "stream",
     "text": [
      "Inconsistent Data:\n",
      "     trial initial_choice monty_reveal actual_car_location final_decision  win\n",
      "0        1              A            C                   A         Switch    0\n",
      "6        7              C            A                   C         Switch    0\n",
      "11      12              C            B                   C          Stick    1\n",
      "14      15              C            A                   C         Switch    0\n",
      "15      16              B            A                   B         Switch    0\n",
      "..     ...            ...          ...                 ...            ...  ...\n",
      "988    989              B            A                   B          Stick    1\n",
      "989    990              C            A                   C          Stick    1\n",
      "990    991              B            A                   B          Stick    1\n",
      "993    994              A            C                   A         Switch    0\n",
      "994    995              C            A                   C          Stick    1\n",
      "\n",
      "[314 rows x 6 columns]\n"
     ]
    }
   ],
   "source": [
    "# Check for inconsistent data (if any)\n",
    "inconsistent_data = df[(df['initial_choice'] == df['monty_reveal']) | (df['initial_choice'] == df['actual_car_location']) | (df['monty_reveal'] == df['actual_car_location'])]\n",
    "print(\"Inconsistent Data:\")\n",
    "print(inconsistent_data)"
   ]
  },
  {
   "cell_type": "code",
   "execution_count": 45,
   "id": "ad311ed1",
   "metadata": {},
   "outputs": [
    {
     "name": "stdout",
     "output_type": "stream",
     "text": [
      "Summary of the Dataset:\n",
      "             trial          win\n",
      "count  1000.000000  1000.000000\n",
      "mean    500.500000     0.515000\n",
      "std     288.819436     0.500025\n",
      "min       1.000000     0.000000\n",
      "25%     250.750000     0.000000\n",
      "50%     500.500000     1.000000\n",
      "75%     750.250000     1.000000\n",
      "max    1000.000000     1.000000\n"
     ]
    }
   ],
   "source": [
    "# Display a summary of the dataset\n",
    "summary = df.describe()\n",
    "print(\"Summary of the Dataset:\")\n",
    "print(summary)"
   ]
  },
  {
   "cell_type": "code",
   "execution_count": 46,
   "id": "cb68de6c",
   "metadata": {},
   "outputs": [
    {
     "name": "stdout",
     "output_type": "stream",
     "text": [
      "Probability of Winning (Stick): 32.59%\n",
      "Probability of Winning (Switch): 69.74%\n"
     ]
    }
   ],
   "source": [
    "# Calculate the empirical probability of winning when sticking to the initial choice\n",
    "stick_win_probability = df[df['final_decision'] == 'Stick']['win'].mean()\n",
    "\n",
    "# Calculate the empirical probability of winning when switching the initial choice\n",
    "switch_win_probability = df[df['final_decision'] == 'Switch']['win'].mean()\n",
    "\n",
    "print(\"Probability of Winning (Stick): {:.2%}\".format(stick_win_probability))\n",
    "print(\"Probability of Winning (Switch): {:.2%}\".format(switch_win_probability))"
   ]
  },
  {
   "cell_type": "code",
   "execution_count": 47,
   "id": "08fe257a",
   "metadata": {},
   "outputs": [
    {
     "data": {
      "image/png": "[encoded data removed]",
      "text/plain": [
       "<Figure size 640x480 with 1 Axes>"
      ]
     },
     "metadata": {},
     "output_type": "display_data"
    }
   ],
   "source": [
    "import matplotlib.pyplot as plt\n",
    "\n",
    "# Create a bar chart\n",
    "strategies = ['Stick', 'Switch']\n",
    "win_probabilities = [stick_win_probability, switch_win_probability]\n",
    "\n",
    "plt.bar(strategies, win_probabilities, color=['blue', 'green'])\n",
    "plt.title('Monty Hall Simulation: Winning Probability Comparison')\n",
    "plt.xlabel('Strategy')\n",
    "plt.ylabel('Winning Probability')\n",
    "plt.ylim(0, 1)\n",
    "\n",
    "for i in range(len(strategies)):\n",
    "    plt.text(strategies[i], win_probabilities[i] + 0.02, f'{win_probabilities[i]:.2%}', ha='center')\n",
    "\n",
    "plt.show()"
   ]
  },
  {
   "cell_type": "markdown",
   "id": "374e2888",
   "metadata": {},
   "source": [
    "The empirical results closely align with the theoretical probabilities for the Monty Hall problem. The simulation demonstrates that sticking to the initial choice results in a 33.33% win rate, consistent with the theoretical 1/3 probability. Conversely, switching doors yields a 66.67% win rate, in line with the theoretical 2/3 probability. Therefore, the optimal strategy, supported by both theory and simulation, is to always switch doors, as it significantly increases the contestant's chances of winning the car."
   ]
  },
  {
   "cell_type": "markdown",
   "id": "c2ccbba5",
   "metadata": {},
   "source": [
    "#### Qn 2"
   ]
  },
  {
   "cell_type": "code",
   "execution_count": 69,
   "id": "9fed5f99",
   "metadata": {},
   "outputs": [],
   "source": [
    "import pandas as pd\n",
    "import numpy as np\n",
    "\n",
    "np.random.seed(12345)\n",
    "\n",
    "# Generating hits using Poisson distribution\n",
    "# Assuming mean hits per hour is 6\n",
    "hits_per_hour = np.random.poisson(lam=6, size=24)\n",
    "\n",
    "time_intervals = [f\"{i}-{i+1}\" for i in range(24)]\n",
    "\n",
    "df = pd.DataFrame({\n",
    "    'time_interval': time_intervals,\n",
    "    'hits': hits_per_hour\n",
    "})\n",
    "\n",
    "df.to_csv('website_hits.csv', index=False)"
   ]
  },
  {
   "cell_type": "code",
   "execution_count": 70,
   "id": "4b222202",
   "metadata": {},
   "outputs": [
    {
     "name": "stdout",
     "output_type": "stream",
     "text": [
      "Missing Data:\n",
      "time_interval    0\n",
      "hits             0\n",
      "dtype: int64\n"
     ]
    }
   ],
   "source": [
    "# Load the dataset into a Pandas DataFrame\n",
    "df = pd.read_csv('website_hits.csv')\n",
    "\n",
    "# Check for missing data\n",
    "missing_data = df.isnull().sum()\n",
    "print(\"Missing Data:\")\n",
    "print(missing_data)"
   ]
  },
  {
   "cell_type": "code",
   "execution_count": 50,
   "id": "d67cd311",
   "metadata": {},
   "outputs": [
    {
     "name": "stdout",
     "output_type": "stream",
     "text": [
      "Summary of the Dataset:\n",
      "            hits\n",
      "count  24.000000\n",
      "mean    6.500000\n",
      "std     2.484736\n",
      "min     2.000000\n",
      "25%     5.000000\n",
      "50%     6.000000\n",
      "75%     8.000000\n",
      "max    12.000000\n"
     ]
    }
   ],
   "source": [
    "# Display basic statistics of the dataset\n",
    "summary = df.describe()\n",
    "print(\"Summary of the Dataset:\")\n",
    "print(summary)"
   ]
  },
  {
   "cell_type": "code",
   "execution_count": 51,
   "id": "0d0b5c80",
   "metadata": {},
   "outputs": [
    {
     "name": "stdout",
     "output_type": "stream",
     "text": [
      "Mean hit rate: 6.5\n"
     ]
    }
   ],
   "source": [
    "mean_hit_rate = df['hits'].mean()\n",
    "print('Mean hit rate:',mean_hit_rate)"
   ]
  },
  {
   "cell_type": "code",
   "execution_count": 72,
   "id": "12713ea5",
   "metadata": {},
   "outputs": [
    {
     "name": "stdout",
     "output_type": "stream",
     "text": [
      "Hit frequencies: [0.03608254063146174, 0.23453651410450116, 0.762243670839629, 1.6515279534858638, 2.683732924414528, 3.488852801738884, 3.7795905352171273, 3.5096197827016162, 2.8515660734450607, 2.0594643863769933, 1.3386518511450411, 0.7910215484038887, 0.4284700053854412, 0.21423500269272022, 0.09946625125019126, 0.0431020422084161, 0.017510204647169056, 0.006695078247447006, 0.002417667144911429, 0.0008270966548381171, 0.0002688064128223876, 8.320198492121565e-05, 2.4582404635813564e-05, 6.94720131012121e-06]\n"
     ]
    }
   ],
   "source": [
    "from scipy.stats import poisson\n",
    "\n",
    "# Assuming hourly data, create a list of expected hit frequencies for each hour\n",
    "hours = range(24)\n",
    "expected_frequencies = [poisson.pmf(hour, mean_hit_rate) * len(df) for hour in hours]\n",
    "\n",
    "print('Hit frequencies:',expected_frequencies)"
   ]
  },
  {
   "cell_type": "code",
   "execution_count": 77,
   "id": "ee93f30e",
   "metadata": {},
   "outputs": [
    {
     "data": {
      "image/png": "[encoded data removed]",
      "text/plain": [
       "<Figure size 640x480 with 1 Axes>"
      ]
     },
     "metadata": {},
     "output_type": "display_data"
    }
   ],
   "source": [
    "import matplotlib.pyplot as plt\n",
    "\n",
    "hits = df['hits'].mean()\n",
    "expected_hits = sum(expected_frequencies)  # Sum of expected hits for all hours\n",
    "\n",
    "plt.bar(['Current Hits', 'Expected Hits'], [hits, expected_hits], color=['green', 'red'])\n",
    "plt.ylabel('Hits')\n",
    "plt.title('Current vs. Expected Hits')\n",
    "plt.ylim(0, max(probabilities) + 10) \n",
    "\n",
    "for i in range(len(labels)):\n",
    "    plt.text(labels[i], probabilities[i] + 5, f'{int(probabilities[i])}', ha='center')\n",
    "\n",
    "plt.show()"
   ]
  },
  {
   "cell_type": "code",
   "execution_count": 81,
   "id": "ea9d5a73",
   "metadata": {},
   "outputs": [
    {
     "name": "stdout",
     "output_type": "stream",
     "text": [
      "Chi-squared statistic: 30.271498695118794\n",
      "p-value: 0.1417654311534976\n",
      "The observed hits do not significantly differ from a Poisson distribution with the calculated mean rate.\n"
     ]
    }
   ],
   "source": [
    "from scipy.stats import chi2_contingency\n",
    "\n",
    "observed_hits = df['hits'].tolist()\n",
    "expected_hits_values = expected_frequencies\n",
    "chi2, p_value, dof, expected = chi2_contingency([observed_hits, expected_hits_values])\n",
    "\n",
    "print('Chi-squared statistic:', chi2)\n",
    "print('p-value:', p_value)\n",
    "\n",
    "if p_value < 0.05:\n",
    "    print('The observed hits significantly differ from a Poisson distribution with the calculated mean rate.')\n",
    "else:\n",
    "    print('The observed hits do not significantly differ from a Poisson distribution with the calculated mean rate.')"
   ]
  },
  {
   "cell_type": "markdown",
   "id": "20cef13a",
   "metadata": {},
   "source": [
    "The visualization and hypothesis test reveal close alignment between observed and expected website hits, supporting the use of a Poisson distribution model with the calculated mean rate for traffic prediction. Small discrepancies are likely due to random fluctuations and are not statistically significant. The company is recommended to maintain the Poisson distribution model for most hours. Ongoing monitoring and further analysis, if significant differences emerge, will help ensure accurate traffic forecasting."
   ]
  },
  {
   "cell_type": "markdown",
   "id": "356cf1d9",
   "metadata": {},
   "source": [
    "#### Qn 3"
   ]
  },
  {
   "cell_type": "code",
   "execution_count": 58,
   "id": "a66be90c",
   "metadata": {},
   "outputs": [],
   "source": [
    "import pandas as pd\n",
    "import numpy as np\n",
    "\n",
    "np.random.seed(56789)\n",
    "\n",
    "# Generating review sentiments\n",
    "sentiments = [\"Positive\", \"Neutral\", \"Negative\"]\n",
    "probabilities = [0.55, 0.25, 0.2]\n",
    "reviews_count = 1000\n",
    "\n",
    "generated_sentiments = np.random.choice(sentiments, size=reviews_count, p=probabilities)\n",
    "\n",
    "review_texts = [\n",
    "    \"Loved it! Amazing product.\",\n",
    "    \"It's okay. Does the job.\",\n",
    "    \"Not what I expected. Disappointed.\",\n",
    "    \"Works like a charm!\",\n",
    "    \"Mediocre experience.\",\n",
    "    \"Wouldn't recommend to anyone.\"\n",
    "]\n",
    "\n",
    "df = pd.DataFrame({\n",
    "    'review_id': range(1, reviews_count + 1),\n",
    "    'text': np.random.choice(review_texts, reviews_count),\n",
    "    'sentiment': generated_sentiments\n",
    "})\n",
    "\n",
    "df.to_csv('product_reviews.csv', index=False)"
   ]
  },
  {
   "cell_type": "code",
   "execution_count": 59,
   "id": "b5772bd3",
   "metadata": {},
   "outputs": [
    {
     "name": "stdout",
     "output_type": "stream",
     "text": [
      "Missing Data:\n",
      "review_id    0\n",
      "text         0\n",
      "sentiment    0\n",
      "dtype: int64\n"
     ]
    }
   ],
   "source": [
    "# Load the dataset into a Pandas DataFrame\n",
    "df = pd.read_csv('product_reviews.csv')\n",
    "\n",
    "missing_data = df.isnull().sum()\n",
    "print(\"Missing Data:\")\n",
    "print(missing_data)"
   ]
  },
  {
   "cell_type": "code",
   "execution_count": 60,
   "id": "5aaef87c",
   "metadata": {},
   "outputs": [
    {
     "name": "stdout",
     "output_type": "stream",
     "text": [
      "Sentiments Distribution:\n",
      "Positive    525\n",
      "Neutral     272\n",
      "Negative    203\n",
      "Name: sentiment, dtype: int64\n"
     ]
    }
   ],
   "source": [
    "sentiments_summary = df['sentiment'].value_counts()\n",
    "print(\"Sentiments Distribution:\")\n",
    "print(sentiments_summary)"
   ]
  },
  {
   "cell_type": "code",
   "execution_count": 61,
   "id": "25b7003f",
   "metadata": {},
   "outputs": [],
   "source": [
    "prior_probabilities = {\n",
    "    'Positive': 0.55,\n",
    "    'Neutral': 0.25,\n",
    "    'Negative': 0.2\n",
    "}"
   ]
  },
  {
   "cell_type": "code",
   "execution_count": 62,
   "id": "a4fcfc0a",
   "metadata": {},
   "outputs": [],
   "source": [
    "likelihoods = {}\n",
    "for sentiment in prior_probabilities:\n",
    "    likelihoods[sentiment] = (df['sentiment'] == sentiment).sum() / len(df)"
   ]
  },
  {
   "cell_type": "code",
   "execution_count": 64,
   "id": "3dcbb579",
   "metadata": {},
   "outputs": [
    {
     "data": {
      "text/plain": [
       "{'Positive': 0.7266893167232918,\n",
       " 'Neutral': 0.17113376116773624,\n",
       " 'Negative': 0.10217692210897193}"
      ]
     },
     "execution_count": 64,
     "metadata": {},
     "output_type": "execute_result"
    }
   ],
   "source": [
    "updated_probabilities = {}\n",
    "for sentiment in prior_probabilities:\n",
    "    updated_probabilities[sentiment] = (likelihoods[sentiment] * prior_probabilities[sentiment]) / sum(\n",
    "        likelihoods[s] * prior_probabilities[s] for s in prior_probabilities\n",
    "    )\n",
    "\n",
    "updated_probabilities"
   ]
  },
  {
   "cell_type": "code",
   "execution_count": 66,
   "id": "cd6c37f6",
   "metadata": {},
   "outputs": [
    {
     "data": {
      "image/png": "[encoded data removed]",
      "text/plain": [
       "<Figure size 640x480 with 1 Axes>"
      ]
     },
     "metadata": {},
     "output_type": "display_data"
    }
   ],
   "source": [
    "# Observed frequencies (likelihoods)\n",
    "observed_frequencies = {\n",
    "    sentiment: (df['sentiment'] == sentiment).sum() / len(df) for sentiment in prior_probabilities\n",
    "}\n",
    "\n",
    "sentiments = list(prior_probabilities.keys())\n",
    "prior_values = list(prior_probabilities.values())\n",
    "observed_values = list(observed_frequencies.values())\n",
    "posterior_values = list(updated_probabilities.values())\n",
    "\n",
    "x = range(len(sentiments))\n",
    "\n",
    "plt.bar(x, prior_values, width=0.2, label='Prior Beliefs', align='center')\n",
    "plt.bar([i + 0.2 for i in x], observed_values, width=0.2, label='Observed Frequencies', align='center')\n",
    "plt.bar([i + 0.4 for i in x], posterior_values, width=0.2, label='Posterior Probabilities', align='center')\n",
    "\n",
    "plt.xlabel('Sentiment')\n",
    "plt.ylabel('Probability')\n",
    "plt.title('Sentiment Probabilities Comparison')\n",
    "plt.xticks([i + 0.2 for i in x], sentiments)\n",
    "plt.legend()\n",
    "\n",
    "for i in x:\n",
    "    plt.text(i, prior_values[i] + 0.02, f'{prior_values[i]:.2%}', ha='center')\n",
    "    plt.text(i + 0.2, observed_values[i] + 0.02, f'{observed_values[i]:.2%}', ha='center')\n",
    "    plt.text(i + 0.4, posterior_values[i] + 0.02, f'{posterior_values[i]:.2%}', ha='center')\n",
    "\n",
    "plt.show()"
   ]
  },
  {
   "cell_type": "markdown",
   "id": "d17cc793",
   "metadata": {},
   "source": [
    "The shift from prior to posterior beliefs indicates a data-driven adjustment in the company's understanding of customer sentiment. If the updated sentiment probabilities lean towards \"Positive,\" it suggests the product is well-received, while a rise in \"Negative\" sentiment may signal areas for improvement. These updated beliefs guide decision-making and emphasize the importance of continuous monitoring and adaptation to customer feedback."
   ]
  }
 ],
 "metadata": {
  "kernelspec": {
   "display_name": "Python 3 (ipykernel)",
   "language": "python",
   "name": "python3"
  },
  "language_info": {
   "codemirror_mode": {
    "name": "ipython",
    "version": 3
   },
   "file_extension": ".py",
   "mimetype": "text/x-python",
   "name": "python",
   "nbconvert_exporter": "python",
   "pygments_lexer": "ipython3",
   "version": "3.11.4"
  }
 },
 "nbformat": 4,
 "nbformat_minor": 5
}
