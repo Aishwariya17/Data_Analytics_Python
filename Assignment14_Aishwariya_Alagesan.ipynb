{
 "cells": [
  {
   "cell_type": "markdown",
   "id": "3641f72c",
   "metadata": {},
   "source": [
    "### Question 1"
   ]
  },
  {
   "cell_type": "code",
   "execution_count": 2,
   "id": "451eaa21",
   "metadata": {},
   "outputs": [
    {
     "data": {
      "text/html": [
       "<div>\n",
       "<style scoped>\n",
       "    .dataframe tbody tr th:only-of-type {\n",
       "        vertical-align: middle;\n",
       "    }\n",
       "\n",
       "    .dataframe tbody tr th {\n",
       "        vertical-align: top;\n",
       "    }\n",
       "\n",
       "    .dataframe thead th {\n",
       "        text-align: right;\n",
       "    }\n",
       "</style>\n",
       "<table border=\"1\" class=\"dataframe\">\n",
       "  <thead>\n",
       "    <tr style=\"text-align: right;\">\n",
       "      <th></th>\n",
       "      <th>Quality Check Outcome</th>\n",
       "    </tr>\n",
       "  </thead>\n",
       "  <tbody>\n",
       "    <tr>\n",
       "      <th>0</th>\n",
       "      <td>Non-Defective</td>\n",
       "    </tr>\n",
       "    <tr>\n",
       "      <th>1</th>\n",
       "      <td>Defective</td>\n",
       "    </tr>\n",
       "    <tr>\n",
       "      <th>2</th>\n",
       "      <td>Non-Defective</td>\n",
       "    </tr>\n",
       "    <tr>\n",
       "      <th>3</th>\n",
       "      <td>Non-Defective</td>\n",
       "    </tr>\n",
       "    <tr>\n",
       "      <th>4</th>\n",
       "      <td>Non-Defective</td>\n",
       "    </tr>\n",
       "  </tbody>\n",
       "</table>\n",
       "</div>"
      ],
      "text/plain": [
       "  Quality Check Outcome\n",
       "0         Non-Defective\n",
       "1             Defective\n",
       "2         Non-Defective\n",
       "3         Non-Defective\n",
       "4         Non-Defective"
      ]
     },
     "execution_count": 2,
     "metadata": {},
     "output_type": "execute_result"
    }
   ],
   "source": [
    "# Importing necessary libraries\n",
    "import pandas as pd\n",
    "import numpy as np\n",
    "import matplotlib.pyplot as plt\n",
    "from scipy.stats import binom\n",
    "\n",
    "# Generating the dataset using Binomial Distribution\n",
    "np.random.seed(42)\n",
    "n = 100  # Total products\n",
    "p = 0.1  # Probability of a product being defective\n",
    "data = np.random.binomial(1, p, n)\n",
    "outcome_map = {1: 'Defective', 0: 'Non-Defective'}\n",
    "data = [outcome_map[i] for i in data]\n",
    "\n",
    "df = pd.DataFrame(data, columns=['Quality Check Outcome'])\n",
    "\n",
    "# Display the first few rows of the dataframe\n",
    "df.head()"
   ]
  },
  {
   "cell_type": "code",
   "execution_count": 6,
   "id": "e1e6e4b7",
   "metadata": {},
   "outputs": [
    {
     "data": {
      "image/png": "[encoded data removed]",
      "text/plain": [
       "<Figure size 800x400 with 1 Axes>"
      ]
     },
     "metadata": {},
     "output_type": "display_data"
    }
   ],
   "source": [
    "# Bar chart\n",
    "plt.figure(figsize=(8, 4))\n",
    "df['Quality Check Outcome'].value_counts().plot(kind='bar', color=['green', 'red'])\n",
    "plt.title('Distribution of Defective and Non-Defective Products')\n",
    "plt.xlabel('Quality Check Outcome')\n",
    "plt.ylabel('Count')\n",
    "plt.show()"
   ]
  },
  {
   "cell_type": "code",
   "execution_count": 4,
   "id": "2ed1fb70",
   "metadata": {},
   "outputs": [
    {
     "name": "stdout",
     "output_type": "stream",
     "text": [
      "Estimated probability of a product being defective (p): 0.09\n"
     ]
    }
   ],
   "source": [
    "# Estimate the value of p\n",
    "estimated_p = df['Quality Check Outcome'].value_counts(normalize=True)['Defective']\n",
    "\n",
    "print(f\"Estimated probability of a product being defective (p): {estimated_p}\")"
   ]
  },
  {
   "cell_type": "code",
   "execution_count": 7,
   "id": "7c77e51f",
   "metadata": {},
   "outputs": [
    {
     "name": "stdout",
     "output_type": "stream",
     "text": [
      "Probability that more than 10 out of the next 50 products will be defective: 0.00428\n"
     ]
    }
   ],
   "source": [
    "# Calculate the probability of more than 10 defective products in the next 50\n",
    "num_defective = 10\n",
    "num_trials = 50\n",
    "probability_more_than_10_defective = round(1 - binom.cdf(num_defective, num_trials, estimated_p), 5)\n",
    "\n",
    "print(f\"Probability that more than 10 out of the next 50 products will be defective: {probability_more_than_10_defective}\")"
   ]
  },
  {
   "cell_type": "markdown",
   "id": "3748efeb",
   "metadata": {},
   "source": [
    "Interpretation:\n",
    "\n",
    "The estimated probability of 0.09 suggests that, on average, approximately 9% of the products in the dataset are defective. This implies a relatively low defect rate in the simulated dataset. The distribution of defective products appears to be skewed towards the non-defective side, indicating that most products pass the quality check."
   ]
  },
  {
   "cell_type": "markdown",
   "id": "fc5f580c",
   "metadata": {},
   "source": [
    "### Question 2"
   ]
  },
  {
   "cell_type": "code",
   "execution_count": 18,
   "id": "c2ce1a14",
   "metadata": {},
   "outputs": [
    {
     "data": {
      "text/html": [
       "<div>\n",
       "<style scoped>\n",
       "    .dataframe tbody tr th:only-of-type {\n",
       "        vertical-align: middle;\n",
       "    }\n",
       "\n",
       "    .dataframe tbody tr th {\n",
       "        vertical-align: top;\n",
       "    }\n",
       "\n",
       "    .dataframe thead th {\n",
       "        text-align: right;\n",
       "    }\n",
       "</style>\n",
       "<table border=\"1\" class=\"dataframe\">\n",
       "  <thead>\n",
       "    <tr style=\"text-align: right;\">\n",
       "      <th></th>\n",
       "      <th>Hour</th>\n",
       "      <th>Number of Customers</th>\n",
       "    </tr>\n",
       "  </thead>\n",
       "  <tbody>\n",
       "    <tr>\n",
       "      <th>0</th>\n",
       "      <td>1</td>\n",
       "      <td>5</td>\n",
       "    </tr>\n",
       "    <tr>\n",
       "      <th>1</th>\n",
       "      <td>2</td>\n",
       "      <td>4</td>\n",
       "    </tr>\n",
       "    <tr>\n",
       "      <th>2</th>\n",
       "      <td>3</td>\n",
       "      <td>4</td>\n",
       "    </tr>\n",
       "    <tr>\n",
       "      <th>3</th>\n",
       "      <td>4</td>\n",
       "      <td>5</td>\n",
       "    </tr>\n",
       "    <tr>\n",
       "      <th>4</th>\n",
       "      <td>5</td>\n",
       "      <td>5</td>\n",
       "    </tr>\n",
       "  </tbody>\n",
       "</table>\n",
       "</div>"
      ],
      "text/plain": [
       "   Hour  Number of Customers\n",
       "0     1                    5\n",
       "1     2                    4\n",
       "2     3                    4\n",
       "3     4                    5\n",
       "4     5                    5"
      ]
     },
     "execution_count": 18,
     "metadata": {},
     "output_type": "execute_result"
    }
   ],
   "source": [
    "# Importing necessary libraries\n",
    "import pandas as pd\n",
    "import numpy as np\n",
    "import matplotlib.pyplot as plt\n",
    "from scipy.stats import poisson\n",
    "\n",
    "# Generating the dataset using Poisson Distribution\n",
    "np.random.seed(42)\n",
    "lambda_value = 5  # Average number of customers arriving per hour\n",
    "hours = list(range(1, 25))\n",
    "data = np.random.poisson(lambda_value, 24)\n",
    "\n",
    "df = pd.DataFrame({'Hour': hours, 'Number of Customers': data})\n",
    "\n",
    "# Display the first few rows of the dataframe\n",
    "df.head()"
   ]
  },
  {
   "cell_type": "code",
   "execution_count": 19,
   "id": "e56574e5",
   "metadata": {},
   "outputs": [
    {
     "data": {
      "image/png": "[encoded data removed]",
      "text/plain": [
       "<Figure size 800x400 with 1 Axes>"
      ]
     },
     "metadata": {},
     "output_type": "display_data"
    }
   ],
   "source": [
    "# Histogram\n",
    "plt.figure(figsize=(8, 4))\n",
    "plt.hist(df['Number of Customers'], bins=range(0, max(df['Number of Customers']) + 1), edgecolor='black', alpha=0.7)\n",
    "plt.title('Distribution of Customer Arrivals per Hour')\n",
    "plt.xlabel('Number of Customers')\n",
    "plt.ylabel('Frequency')\n",
    "plt.grid(axis='y', linestyle='--', alpha=0.7)\n",
    "plt.show()"
   ]
  },
  {
   "cell_type": "code",
   "execution_count": 10,
   "id": "ed813b77",
   "metadata": {},
   "outputs": [
    {
     "name": "stdout",
     "output_type": "stream",
     "text": [
      "Estimated average rate of customer arrivals per hour (λ): 4.916666666666667\n"
     ]
    }
   ],
   "source": [
    "# Estimate the average rate (λ)\n",
    "estimated_lambda = df['Number of Customers'].mean()\n",
    "\n",
    "print(f\"Estimated average rate of customer arrivals per hour (λ): {estimated_lambda}\")"
   ]
  },
  {
   "cell_type": "code",
   "execution_count": 11,
   "id": "305c520a",
   "metadata": {},
   "outputs": [
    {
     "name": "stdout",
     "output_type": "stream",
     "text": [
      "Probability that more than 10 customers will arrive in a given hour: 0.01225\n"
     ]
    }
   ],
   "source": [
    "# Calculate the probability of more than 10 customers arriving in a given hour\n",
    "num_customers = 10\n",
    "probability_more_than_10_customers = 1 - poisson.cdf(num_customers, estimated_lambda)\n",
    "\n",
    "print(f\"Probability that more than 10 customers will arrive in a given hour: {probability_more_than_10_customers:.5f}\")"
   ]
  },
  {
   "cell_type": "markdown",
   "id": "4980bcaf",
   "metadata": {},
   "source": [
    "Interpretation:\n",
    "\n",
    "The dataset suggests an average rate of 4.92 customer arrivals per hour, indicating a moderate flow. With a low probability of 0.01225 for more than 10 arrivals in an hour, rare instances of high customer traffic are implied. The right-skewed Poisson distribution implies most hours have fewer arrivals, offering predictability. This distribution aids businesses in resource planning, foreseeing occasional deviations from the average. Overall, the data reflects a pattern of manageable customer flow with occasional spikes."
   ]
  },
  {
   "cell_type": "markdown",
   "id": "c2d4b431",
   "metadata": {},
   "source": [
    "### Question 3"
   ]
  },
  {
   "cell_type": "code",
   "execution_count": 21,
   "id": "5a7c0ec8",
   "metadata": {},
   "outputs": [
    {
     "data": {
      "text/html": [
       "<div>\n",
       "<style scoped>\n",
       "    .dataframe tbody tr th:only-of-type {\n",
       "        vertical-align: middle;\n",
       "    }\n",
       "\n",
       "    .dataframe tbody tr th {\n",
       "        vertical-align: top;\n",
       "    }\n",
       "\n",
       "    .dataframe thead th {\n",
       "        text-align: right;\n",
       "    }\n",
       "</style>\n",
       "<table border=\"1\" class=\"dataframe\">\n",
       "  <thead>\n",
       "    <tr style=\"text-align: right;\">\n",
       "      <th></th>\n",
       "      <th>Time Between Requests (minutes)</th>\n",
       "    </tr>\n",
       "  </thead>\n",
       "  <tbody>\n",
       "    <tr>\n",
       "      <th>0</th>\n",
       "      <td>0.234634</td>\n",
       "    </tr>\n",
       "    <tr>\n",
       "      <th>1</th>\n",
       "      <td>1.505061</td>\n",
       "    </tr>\n",
       "    <tr>\n",
       "      <th>2</th>\n",
       "      <td>0.658373</td>\n",
       "    </tr>\n",
       "    <tr>\n",
       "      <th>3</th>\n",
       "      <td>0.456471</td>\n",
       "    </tr>\n",
       "    <tr>\n",
       "      <th>4</th>\n",
       "      <td>0.084812</td>\n",
       "    </tr>\n",
       "  </tbody>\n",
       "</table>\n",
       "</div>"
      ],
      "text/plain": [
       "   Time Between Requests (minutes)\n",
       "0                         0.234634\n",
       "1                         1.505061\n",
       "2                         0.658373\n",
       "3                         0.456471\n",
       "4                         0.084812"
      ]
     },
     "execution_count": 21,
     "metadata": {},
     "output_type": "execute_result"
    }
   ],
   "source": [
    "# Importing necessary libraries\n",
    "import pandas as pd\n",
    "import numpy as np\n",
    "import matplotlib.pyplot as plt\n",
    "from scipy.stats import expon\n",
    "\n",
    "# Generating the dataset using Exponential Distribution\n",
    "np.random.seed(42)\n",
    "lambda_value = 2  # Average number of reqests per minute\n",
    "data = np.random.exponential(1/lambda_value, 1000)\n",
    "\n",
    "df = pd.DataFrame(data, columns=['Time Between Requests (minutes)'])\n",
    "\n",
    "# Display the first few rows of the dataframe\n",
    "df.head()"
   ]
  },
  {
   "cell_type": "code",
   "execution_count": 22,
   "id": "a6594e23",
   "metadata": {},
   "outputs": [
    {
     "data": {
      "image/png": "[encoded data removed]",
      "text/plain": [
       "<Figure size 640x480 with 1 Axes>"
      ]
     },
     "metadata": {},
     "output_type": "display_data"
    }
   ],
   "source": [
    "# Plotting a histogram\n",
    "plt.hist(df['Time Between Requests (minutes)'], bins=30, color='skyblue', edgecolor='black')\n",
    "plt.title('Distribution of Time Between Consecutive Server Requests')\n",
    "plt.xlabel('Time Between Requests (minutes)')\n",
    "plt.ylabel('Frequency')\n",
    "plt.show()"
   ]
  },
  {
   "cell_type": "code",
   "execution_count": 14,
   "id": "50770610",
   "metadata": {},
   "outputs": [
    {
     "name": "stdout",
     "output_type": "stream",
     "text": [
      "Estimated rate parameter (λ): 2.0565426917795238\n"
     ]
    }
   ],
   "source": [
    "# Estimate λ using the inverse of the sample mean\n",
    "lambda_estimate = 1 / df['Time Between Requests (minutes)'].mean()\n",
    "print(f\"Estimated rate parameter (λ): {lambda_estimate}\")"
   ]
  },
  {
   "cell_type": "code",
   "execution_count": 15,
   "id": "7346dd30",
   "metadata": {},
   "outputs": [
    {
     "name": "stdout",
     "output_type": "stream",
     "text": [
      "Probability of time between requests exceeding 2 minutes: 0.016357228265927337\n"
     ]
    }
   ],
   "source": [
    "# Calculate the probability using the estimated λ\n",
    "probability_exceed_2_minutes = 1 - expon.cdf(2, scale=1/lambda_estimate)\n",
    "print(f\"Probability of time between requests exceeding 2 minutes: {probability_exceed_2_minutes}\")"
   ]
  },
  {
   "cell_type": "code",
   "execution_count": 16,
   "id": "b23c8be9",
   "metadata": {},
   "outputs": [
    {
     "name": "stdout",
     "output_type": "stream",
     "text": [
      "Time by which 90% of requests would have already arrived: 1.1196388493163845 minutes\n"
     ]
    }
   ],
   "source": [
    "# Determine the time using the percent-point function (inverse cumulative distribution function)\n",
    "time_for_90_percent = expon.ppf(0.9, scale=1/lambda_estimate)\n",
    "print(f\"Time by which 90% of requests would have already arrived: {time_for_90_percent} minutes\")"
   ]
  },
  {
   "cell_type": "markdown",
   "id": "644313d5",
   "metadata": {},
   "source": [
    "Interpretation:\n",
    "\n",
    "The dataset reveals an exponential distribution of time intervals between server requests, with an estimated rate parameter (λ) of 2.06, signifying a rapid average request rate. The low probability (0.0164) of intervals exceeding 2 minutes suggests predominantly short intervals. Within approximately 1.12 minutes post a previous request, 90% of subsequent requests are expected, highlighting the server's quick responsiveness. This distribution informs efficient resource management and underscores the consistent nature of server interactions."
   ]
  }
 ],
 "metadata": {
  "kernelspec": {
   "display_name": "Python 3 (ipykernel)",
   "language": "python",
   "name": "python3"
  },
  "language_info": {
   "codemirror_mode": {
    "name": "ipython",
    "version": 3
   },
   "file_extension": ".py",
   "mimetype": "text/x-python",
   "name": "python",
   "nbconvert_exporter": "python",
   "pygments_lexer": "ipython3",
   "version": "3.11.4"
  }
 },
 "nbformat": 4,
 "nbformat_minor": 5
}
